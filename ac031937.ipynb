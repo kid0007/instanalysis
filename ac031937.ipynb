{
 "cells": [
  {
   "cell_type": "code",
   "execution_count": 463,
   "metadata": {},
   "outputs": [],
   "source": [
    "import pandas as pd\n",
    "# for mathematical calculations\n",
    "import numpy as np \n",
    "from sklearn.ensemble import RandomForestClassifier\n",
    "from sklearn import metrics\n",
    "# for data visualization\n",
    "import matplotlib.pyplot as plt\n",
    "# reading csv file\n",
    "data=pd.read_csv(\"indata.csv\")"
   ]
  },
  {
   "cell_type": "code",
   "execution_count": 464,
   "metadata": {},
   "outputs": [
    {
     "data": {
      "text/html": [
       "<div>\n",
       "<style scoped>\n",
       "    .dataframe tbody tr th:only-of-type {\n",
       "        vertical-align: middle;\n",
       "    }\n",
       "\n",
       "    .dataframe tbody tr th {\n",
       "        vertical-align: top;\n",
       "    }\n",
       "\n",
       "    .dataframe thead th {\n",
       "        text-align: right;\n",
       "    }\n",
       "</style>\n",
       "<table border=\"1\" class=\"dataframe\">\n",
       "  <thead>\n",
       "    <tr style=\"text-align: right;\">\n",
       "      <th></th>\n",
       "      <th>Username</th>\n",
       "      <th>Followers</th>\n",
       "      <th>Follows</th>\n",
       "      <th>Posts</th>\n",
       "      <th>Private</th>\n",
       "      <th>ExternalURL</th>\n",
       "      <th>mutuals</th>\n",
       "      <th>followback</th>\n",
       "    </tr>\n",
       "  </thead>\n",
       "  <tbody>\n",
       "    <tr>\n",
       "      <th>0</th>\n",
       "      <td>inst1</td>\n",
       "      <td>240288</td>\n",
       "      <td>26</td>\n",
       "      <td>563</td>\n",
       "      <td>False</td>\n",
       "      <td>yes</td>\n",
       "      <td>1</td>\n",
       "      <td>0</td>\n",
       "    </tr>\n",
       "    <tr>\n",
       "      <th>1</th>\n",
       "      <td>inst2</td>\n",
       "      <td>36526536</td>\n",
       "      <td>102</td>\n",
       "      <td>852</td>\n",
       "      <td>False</td>\n",
       "      <td>yes</td>\n",
       "      <td>35</td>\n",
       "      <td>0</td>\n",
       "    </tr>\n",
       "    <tr>\n",
       "      <th>2</th>\n",
       "      <td>inst3</td>\n",
       "      <td>50306889</td>\n",
       "      <td>28</td>\n",
       "      <td>19963</td>\n",
       "      <td>False</td>\n",
       "      <td>yes</td>\n",
       "      <td>28</td>\n",
       "      <td>0</td>\n",
       "    </tr>\n",
       "    <tr>\n",
       "      <th>3</th>\n",
       "      <td>inst4</td>\n",
       "      <td>9</td>\n",
       "      <td>42</td>\n",
       "      <td>0</td>\n",
       "      <td>False</td>\n",
       "      <td>no</td>\n",
       "      <td>0</td>\n",
       "      <td>0</td>\n",
       "    </tr>\n",
       "    <tr>\n",
       "      <th>4</th>\n",
       "      <td>inst5</td>\n",
       "      <td>1011</td>\n",
       "      <td>222</td>\n",
       "      <td>47</td>\n",
       "      <td>True</td>\n",
       "      <td>no</td>\n",
       "      <td>0</td>\n",
       "      <td>0</td>\n",
       "    </tr>\n",
       "  </tbody>\n",
       "</table>\n",
       "</div>"
      ],
      "text/plain": [
       "  Username  Followers  Follows  Posts  Private ExternalURL  mutuals  \\\n",
       "0    inst1     240288       26    563    False         yes        1   \n",
       "1    inst2   36526536      102    852    False         yes       35   \n",
       "2    inst3   50306889       28  19963    False         yes       28   \n",
       "3    inst4          9       42      0    False          no        0   \n",
       "4    inst5       1011      222     47     True          no        0   \n",
       "\n",
       "   followback  \n",
       "0           0  \n",
       "1           0  \n",
       "2           0  \n",
       "3           0  \n",
       "4           0  "
      ]
     },
     "execution_count": 464,
     "metadata": {},
     "output_type": "execute_result"
    }
   ],
   "source": [
    "data.head()"
   ]
  },
  {
   "cell_type": "code",
   "execution_count": 465,
   "metadata": {},
   "outputs": [],
   "source": [
    "# introducing new features fol and folfol\n",
    "data['fol']=data['Followers']/(data['Followers']-data['Follows'])\n",
    "data['folfol']=data['Follows']/data['Followers']"
   ]
  },
  {
   "cell_type": "code",
   "execution_count": 466,
   "metadata": {},
   "outputs": [
    {
     "data": {
      "text/html": [
       "<div>\n",
       "<style scoped>\n",
       "    .dataframe tbody tr th:only-of-type {\n",
       "        vertical-align: middle;\n",
       "    }\n",
       "\n",
       "    .dataframe tbody tr th {\n",
       "        vertical-align: top;\n",
       "    }\n",
       "\n",
       "    .dataframe thead th {\n",
       "        text-align: right;\n",
       "    }\n",
       "</style>\n",
       "<table border=\"1\" class=\"dataframe\">\n",
       "  <thead>\n",
       "    <tr style=\"text-align: right;\">\n",
       "      <th></th>\n",
       "      <th>Username</th>\n",
       "      <th>Followers</th>\n",
       "      <th>Follows</th>\n",
       "      <th>Posts</th>\n",
       "      <th>Private</th>\n",
       "      <th>ExternalURL</th>\n",
       "      <th>mutuals</th>\n",
       "      <th>followback</th>\n",
       "      <th>fol</th>\n",
       "      <th>folfol</th>\n",
       "    </tr>\n",
       "  </thead>\n",
       "  <tbody>\n",
       "    <tr>\n",
       "      <th>0</th>\n",
       "      <td>inst1</td>\n",
       "      <td>240288</td>\n",
       "      <td>26</td>\n",
       "      <td>563</td>\n",
       "      <td>False</td>\n",
       "      <td>yes</td>\n",
       "      <td>1</td>\n",
       "      <td>0</td>\n",
       "      <td>1.000108</td>\n",
       "      <td>1.082035e-04</td>\n",
       "    </tr>\n",
       "    <tr>\n",
       "      <th>1</th>\n",
       "      <td>inst2</td>\n",
       "      <td>36526536</td>\n",
       "      <td>102</td>\n",
       "      <td>852</td>\n",
       "      <td>False</td>\n",
       "      <td>yes</td>\n",
       "      <td>35</td>\n",
       "      <td>0</td>\n",
       "      <td>1.000003</td>\n",
       "      <td>2.792490e-06</td>\n",
       "    </tr>\n",
       "    <tr>\n",
       "      <th>2</th>\n",
       "      <td>inst3</td>\n",
       "      <td>50306889</td>\n",
       "      <td>28</td>\n",
       "      <td>19963</td>\n",
       "      <td>False</td>\n",
       "      <td>yes</td>\n",
       "      <td>28</td>\n",
       "      <td>0</td>\n",
       "      <td>1.000001</td>\n",
       "      <td>5.565838e-07</td>\n",
       "    </tr>\n",
       "    <tr>\n",
       "      <th>3</th>\n",
       "      <td>inst4</td>\n",
       "      <td>9</td>\n",
       "      <td>42</td>\n",
       "      <td>0</td>\n",
       "      <td>False</td>\n",
       "      <td>no</td>\n",
       "      <td>0</td>\n",
       "      <td>0</td>\n",
       "      <td>-0.272727</td>\n",
       "      <td>4.666667e+00</td>\n",
       "    </tr>\n",
       "    <tr>\n",
       "      <th>4</th>\n",
       "      <td>inst5</td>\n",
       "      <td>1011</td>\n",
       "      <td>222</td>\n",
       "      <td>47</td>\n",
       "      <td>True</td>\n",
       "      <td>no</td>\n",
       "      <td>0</td>\n",
       "      <td>0</td>\n",
       "      <td>1.281369</td>\n",
       "      <td>2.195846e-01</td>\n",
       "    </tr>\n",
       "  </tbody>\n",
       "</table>\n",
       "</div>"
      ],
      "text/plain": [
       "  Username  Followers  Follows  Posts  Private ExternalURL  mutuals  \\\n",
       "0    inst1     240288       26    563    False         yes        1   \n",
       "1    inst2   36526536      102    852    False         yes       35   \n",
       "2    inst3   50306889       28  19963    False         yes       28   \n",
       "3    inst4          9       42      0    False          no        0   \n",
       "4    inst5       1011      222     47     True          no        0   \n",
       "\n",
       "   followback       fol        folfol  \n",
       "0           0  1.000108  1.082035e-04  \n",
       "1           0  1.000003  2.792490e-06  \n",
       "2           0  1.000001  5.565838e-07  \n",
       "3           0 -0.272727  4.666667e+00  \n",
       "4           0  1.281369  2.195846e-01  "
      ]
     },
     "execution_count": 466,
     "metadata": {},
     "output_type": "execute_result"
    }
   ],
   "source": [
    "data.head()"
   ]
  },
  {
   "cell_type": "code",
   "execution_count": 467,
   "metadata": {},
   "outputs": [
    {
     "data": {
      "text/plain": [
       "False    91\n",
       "True     81\n",
       "Name: Private, dtype: int64"
      ]
     },
     "execution_count": 467,
     "metadata": {},
     "output_type": "execute_result"
    }
   ],
   "source": [
    "data['Private'].value_counts()"
   ]
  },
  {
   "cell_type": "code",
   "execution_count": 468,
   "metadata": {},
   "outputs": [
    {
     "data": {
      "text/plain": [
       "no     127\n",
       "yes     45\n",
       "Name: ExternalURL, dtype: int64"
      ]
     },
     "execution_count": 468,
     "metadata": {},
     "output_type": "execute_result"
    }
   ],
   "source": [
    "data['ExternalURL'].value_counts()"
   ]
  },
  {
   "cell_type": "code",
   "execution_count": 469,
   "metadata": {},
   "outputs": [
    {
     "name": "stdout",
     "output_type": "stream",
     "text": [
      "<class 'pandas.core.frame.DataFrame'>\n",
      "RangeIndex: 172 entries, 0 to 171\n",
      "Data columns (total 10 columns):\n",
      "Username       172 non-null object\n",
      "Followers      172 non-null int64\n",
      "Follows        172 non-null int64\n",
      "Posts          172 non-null int64\n",
      "Private        172 non-null bool\n",
      "ExternalURL    172 non-null object\n",
      "mutuals        172 non-null int64\n",
      "followback     172 non-null int64\n",
      "fol            172 non-null float64\n",
      "folfol         172 non-null float64\n",
      "dtypes: bool(1), float64(2), int64(5), object(2)\n",
      "memory usage: 11.0+ KB\n"
     ]
    }
   ],
   "source": [
    "# printing data types\n",
    "data.info()"
   ]
  },
  {
   "cell_type": "code",
   "execution_count": 470,
   "metadata": {},
   "outputs": [
    {
     "data": {
      "text/html": [
       "<div>\n",
       "<style scoped>\n",
       "    .dataframe tbody tr th:only-of-type {\n",
       "        vertical-align: middle;\n",
       "    }\n",
       "\n",
       "    .dataframe tbody tr th {\n",
       "        vertical-align: top;\n",
       "    }\n",
       "\n",
       "    .dataframe thead th {\n",
       "        text-align: right;\n",
       "    }\n",
       "</style>\n",
       "<table border=\"1\" class=\"dataframe\">\n",
       "  <thead>\n",
       "    <tr style=\"text-align: right;\">\n",
       "      <th></th>\n",
       "      <th>Followers</th>\n",
       "      <th>Follows</th>\n",
       "      <th>Posts</th>\n",
       "      <th>mutuals</th>\n",
       "      <th>followback</th>\n",
       "      <th>fol</th>\n",
       "      <th>folfol</th>\n",
       "    </tr>\n",
       "  </thead>\n",
       "  <tbody>\n",
       "    <tr>\n",
       "      <th>count</th>\n",
       "      <td>1.720000e+02</td>\n",
       "      <td>172.000000</td>\n",
       "      <td>172.000000</td>\n",
       "      <td>172.000000</td>\n",
       "      <td>172.000000</td>\n",
       "      <td>172.000000</td>\n",
       "      <td>172.000000</td>\n",
       "    </tr>\n",
       "    <tr>\n",
       "      <th>mean</th>\n",
       "      <td>1.710792e+06</td>\n",
       "      <td>532.151163</td>\n",
       "      <td>588.162791</td>\n",
       "      <td>6.372093</td>\n",
       "      <td>0.337209</td>\n",
       "      <td>3.395608</td>\n",
       "      <td>1.079224</td>\n",
       "    </tr>\n",
       "    <tr>\n",
       "      <th>std</th>\n",
       "      <td>8.117861e+06</td>\n",
       "      <td>767.878204</td>\n",
       "      <td>2283.606301</td>\n",
       "      <td>9.249683</td>\n",
       "      <td>0.474137</td>\n",
       "      <td>13.755028</td>\n",
       "      <td>1.150947</td>\n",
       "    </tr>\n",
       "    <tr>\n",
       "      <th>min</th>\n",
       "      <td>5.000000e+00</td>\n",
       "      <td>0.000000</td>\n",
       "      <td>0.000000</td>\n",
       "      <td>0.000000</td>\n",
       "      <td>0.000000</td>\n",
       "      <td>-16.210526</td>\n",
       "      <td>0.000000</td>\n",
       "    </tr>\n",
       "    <tr>\n",
       "      <th>25%</th>\n",
       "      <td>2.000000e+02</td>\n",
       "      <td>139.000000</td>\n",
       "      <td>32.000000</td>\n",
       "      <td>0.000000</td>\n",
       "      <td>0.000000</td>\n",
       "      <td>-1.165624</td>\n",
       "      <td>0.219331</td>\n",
       "    </tr>\n",
       "    <tr>\n",
       "      <th>50%</th>\n",
       "      <td>3.260000e+02</td>\n",
       "      <td>277.000000</td>\n",
       "      <td>86.000000</td>\n",
       "      <td>1.000000</td>\n",
       "      <td>0.000000</td>\n",
       "      <td>1.000170</td>\n",
       "      <td>0.887302</td>\n",
       "    </tr>\n",
       "    <tr>\n",
       "      <th>75%</th>\n",
       "      <td>2.717000e+03</td>\n",
       "      <td>587.000000</td>\n",
       "      <td>230.250000</td>\n",
       "      <td>13.000000</td>\n",
       "      <td>1.000000</td>\n",
       "      <td>1.966102</td>\n",
       "      <td>1.511905</td>\n",
       "    </tr>\n",
       "    <tr>\n",
       "      <th>max</th>\n",
       "      <td>5.030689e+07</td>\n",
       "      <td>5428.000000</td>\n",
       "      <td>19963.000000</td>\n",
       "      <td>35.000000</td>\n",
       "      <td>1.000000</td>\n",
       "      <td>89.250000</td>\n",
       "      <td>5.881944</td>\n",
       "    </tr>\n",
       "  </tbody>\n",
       "</table>\n",
       "</div>"
      ],
      "text/plain": [
       "          Followers      Follows         Posts     mutuals  followback  \\\n",
       "count  1.720000e+02   172.000000    172.000000  172.000000  172.000000   \n",
       "mean   1.710792e+06   532.151163    588.162791    6.372093    0.337209   \n",
       "std    8.117861e+06   767.878204   2283.606301    9.249683    0.474137   \n",
       "min    5.000000e+00     0.000000      0.000000    0.000000    0.000000   \n",
       "25%    2.000000e+02   139.000000     32.000000    0.000000    0.000000   \n",
       "50%    3.260000e+02   277.000000     86.000000    1.000000    0.000000   \n",
       "75%    2.717000e+03   587.000000    230.250000   13.000000    1.000000   \n",
       "max    5.030689e+07  5428.000000  19963.000000   35.000000    1.000000   \n",
       "\n",
       "              fol      folfol  \n",
       "count  172.000000  172.000000  \n",
       "mean     3.395608    1.079224  \n",
       "std     13.755028    1.150947  \n",
       "min    -16.210526    0.000000  \n",
       "25%     -1.165624    0.219331  \n",
       "50%      1.000170    0.887302  \n",
       "75%      1.966102    1.511905  \n",
       "max     89.250000    5.881944  "
      ]
     },
     "execution_count": 470,
     "metadata": {},
     "output_type": "execute_result"
    }
   ],
   "source": [
    "data.describe()"
   ]
  },
  {
   "cell_type": "code",
   "execution_count": 471,
   "metadata": {},
   "outputs": [
    {
     "data": {
      "text/plain": [
       "0    114\n",
       "1     58\n",
       "Name: followback, dtype: int64"
      ]
     },
     "execution_count": 471,
     "metadata": {},
     "output_type": "execute_result"
    }
   ],
   "source": [
    "data['followback'].value_counts()"
   ]
  },
  {
   "cell_type": "code",
   "execution_count": 472,
   "metadata": {},
   "outputs": [
    {
     "data": {
      "text/html": [
       "<div>\n",
       "<style scoped>\n",
       "    .dataframe tbody tr th:only-of-type {\n",
       "        vertical-align: middle;\n",
       "    }\n",
       "\n",
       "    .dataframe tbody tr th {\n",
       "        vertical-align: top;\n",
       "    }\n",
       "\n",
       "    .dataframe thead th {\n",
       "        text-align: right;\n",
       "    }\n",
       "</style>\n",
       "<table border=\"1\" class=\"dataframe\">\n",
       "  <thead>\n",
       "    <tr style=\"text-align: right;\">\n",
       "      <th></th>\n",
       "      <th>Username</th>\n",
       "      <th>Followers</th>\n",
       "      <th>Follows</th>\n",
       "      <th>Posts</th>\n",
       "      <th>Private</th>\n",
       "      <th>ExternalURL</th>\n",
       "      <th>mutuals</th>\n",
       "      <th>followback</th>\n",
       "      <th>fol</th>\n",
       "      <th>folfol</th>\n",
       "    </tr>\n",
       "  </thead>\n",
       "  <tbody>\n",
       "    <tr>\n",
       "      <th>0</th>\n",
       "      <td>inst1</td>\n",
       "      <td>240288</td>\n",
       "      <td>26</td>\n",
       "      <td>563</td>\n",
       "      <td>False</td>\n",
       "      <td>yes</td>\n",
       "      <td>1</td>\n",
       "      <td>0</td>\n",
       "      <td>-0.174663</td>\n",
       "      <td>-0.940327</td>\n",
       "    </tr>\n",
       "    <tr>\n",
       "      <th>1</th>\n",
       "      <td>inst2</td>\n",
       "      <td>36526536</td>\n",
       "      <td>102</td>\n",
       "      <td>852</td>\n",
       "      <td>False</td>\n",
       "      <td>yes</td>\n",
       "      <td>35</td>\n",
       "      <td>0</td>\n",
       "      <td>-0.174671</td>\n",
       "      <td>-0.940419</td>\n",
       "    </tr>\n",
       "    <tr>\n",
       "      <th>2</th>\n",
       "      <td>inst3</td>\n",
       "      <td>50306889</td>\n",
       "      <td>28</td>\n",
       "      <td>19963</td>\n",
       "      <td>False</td>\n",
       "      <td>yes</td>\n",
       "      <td>28</td>\n",
       "      <td>0</td>\n",
       "      <td>-0.174671</td>\n",
       "      <td>-0.940421</td>\n",
       "    </tr>\n",
       "    <tr>\n",
       "      <th>3</th>\n",
       "      <td>inst4</td>\n",
       "      <td>9</td>\n",
       "      <td>42</td>\n",
       "      <td>0</td>\n",
       "      <td>False</td>\n",
       "      <td>no</td>\n",
       "      <td>0</td>\n",
       "      <td>0</td>\n",
       "      <td>-0.267469</td>\n",
       "      <td>3.126049</td>\n",
       "    </tr>\n",
       "    <tr>\n",
       "      <th>4</th>\n",
       "      <td>inst5</td>\n",
       "      <td>1011</td>\n",
       "      <td>222</td>\n",
       "      <td>47</td>\n",
       "      <td>True</td>\n",
       "      <td>no</td>\n",
       "      <td>0</td>\n",
       "      <td>0</td>\n",
       "      <td>-0.154155</td>\n",
       "      <td>-0.749078</td>\n",
       "    </tr>\n",
       "    <tr>\n",
       "      <th>5</th>\n",
       "      <td>inst6</td>\n",
       "      <td>169</td>\n",
       "      <td>36</td>\n",
       "      <td>2</td>\n",
       "      <td>False</td>\n",
       "      <td>no</td>\n",
       "      <td>0</td>\n",
       "      <td>0</td>\n",
       "      <td>-0.154935</td>\n",
       "      <td>-0.754800</td>\n",
       "    </tr>\n",
       "    <tr>\n",
       "      <th>6</th>\n",
       "      <td>inst7</td>\n",
       "      <td>538</td>\n",
       "      <td>118</td>\n",
       "      <td>144</td>\n",
       "      <td>False</td>\n",
       "      <td>no</td>\n",
       "      <td>0</td>\n",
       "      <td>1</td>\n",
       "      <td>-0.154186</td>\n",
       "      <td>-0.749299</td>\n",
       "    </tr>\n",
       "    <tr>\n",
       "      <th>7</th>\n",
       "      <td>inst8</td>\n",
       "      <td>214</td>\n",
       "      <td>354</td>\n",
       "      <td>15</td>\n",
       "      <td>True</td>\n",
       "      <td>no</td>\n",
       "      <td>24</td>\n",
       "      <td>1</td>\n",
       "      <td>-0.359036</td>\n",
       "      <td>0.501031</td>\n",
       "    </tr>\n",
       "    <tr>\n",
       "      <th>8</th>\n",
       "      <td>inst9</td>\n",
       "      <td>113</td>\n",
       "      <td>184</td>\n",
       "      <td>126</td>\n",
       "      <td>True</td>\n",
       "      <td>yes</td>\n",
       "      <td>22</td>\n",
       "      <td>1</td>\n",
       "      <td>-0.363628</td>\n",
       "      <td>0.478474</td>\n",
       "    </tr>\n",
       "    <tr>\n",
       "      <th>9</th>\n",
       "      <td>inst10</td>\n",
       "      <td>265</td>\n",
       "      <td>479</td>\n",
       "      <td>57</td>\n",
       "      <td>False</td>\n",
       "      <td>no</td>\n",
       "      <td>24</td>\n",
       "      <td>1</td>\n",
       "      <td>-0.337873</td>\n",
       "      <td>0.634651</td>\n",
       "    </tr>\n",
       "    <tr>\n",
       "      <th>10</th>\n",
       "      <td>inst11</td>\n",
       "      <td>179</td>\n",
       "      <td>266</td>\n",
       "      <td>32</td>\n",
       "      <td>False</td>\n",
       "      <td>no</td>\n",
       "      <td>34</td>\n",
       "      <td>1</td>\n",
       "      <td>-0.397600</td>\n",
       "      <td>0.354488</td>\n",
       "    </tr>\n",
       "    <tr>\n",
       "      <th>11</th>\n",
       "      <td>inst12</td>\n",
       "      <td>115494</td>\n",
       "      <td>436</td>\n",
       "      <td>739</td>\n",
       "      <td>False</td>\n",
       "      <td>no</td>\n",
       "      <td>0</td>\n",
       "      <td>0</td>\n",
       "      <td>-0.174395</td>\n",
       "      <td>-0.937132</td>\n",
       "    </tr>\n",
       "    <tr>\n",
       "      <th>12</th>\n",
       "      <td>inst13</td>\n",
       "      <td>900238</td>\n",
       "      <td>372</td>\n",
       "      <td>170</td>\n",
       "      <td>False</td>\n",
       "      <td>no</td>\n",
       "      <td>6</td>\n",
       "      <td>0</td>\n",
       "      <td>-0.174641</td>\n",
       "      <td>-0.940061</td>\n",
       "    </tr>\n",
       "    <tr>\n",
       "      <th>13</th>\n",
       "      <td>inst14</td>\n",
       "      <td>639583</td>\n",
       "      <td>7</td>\n",
       "      <td>2850</td>\n",
       "      <td>False</td>\n",
       "      <td>yes</td>\n",
       "      <td>1</td>\n",
       "      <td>0</td>\n",
       "      <td>-0.174670</td>\n",
       "      <td>-0.940412</td>\n",
       "    </tr>\n",
       "    <tr>\n",
       "      <th>14</th>\n",
       "      <td>inst15</td>\n",
       "      <td>348438</td>\n",
       "      <td>3</td>\n",
       "      <td>1144</td>\n",
       "      <td>False</td>\n",
       "      <td>yes</td>\n",
       "      <td>2</td>\n",
       "      <td>0</td>\n",
       "      <td>-0.174670</td>\n",
       "      <td>-0.940414</td>\n",
       "    </tr>\n",
       "    <tr>\n",
       "      <th>15</th>\n",
       "      <td>inst16</td>\n",
       "      <td>44494340</td>\n",
       "      <td>84</td>\n",
       "      <td>2644</td>\n",
       "      <td>False</td>\n",
       "      <td>yes</td>\n",
       "      <td>11</td>\n",
       "      <td>0</td>\n",
       "      <td>-0.174671</td>\n",
       "      <td>-0.940420</td>\n",
       "    </tr>\n",
       "    <tr>\n",
       "      <th>16</th>\n",
       "      <td>inst17</td>\n",
       "      <td>5</td>\n",
       "      <td>0</td>\n",
       "      <td>0</td>\n",
       "      <td>False</td>\n",
       "      <td>no</td>\n",
       "      <td>13</td>\n",
       "      <td>1</td>\n",
       "      <td>-0.174671</td>\n",
       "      <td>-0.940421</td>\n",
       "    </tr>\n",
       "    <tr>\n",
       "      <th>17</th>\n",
       "      <td>inst18</td>\n",
       "      <td>295</td>\n",
       "      <td>323</td>\n",
       "      <td>47</td>\n",
       "      <td>True</td>\n",
       "      <td>no</td>\n",
       "      <td>14</td>\n",
       "      <td>1</td>\n",
       "      <td>-1.015774</td>\n",
       "      <td>0.013673</td>\n",
       "    </tr>\n",
       "    <tr>\n",
       "      <th>18</th>\n",
       "      <td>inst19</td>\n",
       "      <td>623</td>\n",
       "      <td>1535</td>\n",
       "      <td>47</td>\n",
       "      <td>True</td>\n",
       "      <td>no</td>\n",
       "      <td>18</td>\n",
       "      <td>1</td>\n",
       "      <td>-0.297392</td>\n",
       "      <td>1.206575</td>\n",
       "    </tr>\n",
       "    <tr>\n",
       "      <th>19</th>\n",
       "      <td>inst20</td>\n",
       "      <td>277</td>\n",
       "      <td>212</td>\n",
       "      <td>45</td>\n",
       "      <td>True</td>\n",
       "      <td>no</td>\n",
       "      <td>22</td>\n",
       "      <td>1</td>\n",
       "      <td>0.063138</td>\n",
       "      <td>-0.273512</td>\n",
       "    </tr>\n",
       "    <tr>\n",
       "      <th>20</th>\n",
       "      <td>inst21</td>\n",
       "      <td>3670002</td>\n",
       "      <td>244</td>\n",
       "      <td>777</td>\n",
       "      <td>False</td>\n",
       "      <td>yes</td>\n",
       "      <td>19</td>\n",
       "      <td>0</td>\n",
       "      <td>-0.174666</td>\n",
       "      <td>-0.940363</td>\n",
       "    </tr>\n",
       "    <tr>\n",
       "      <th>21</th>\n",
       "      <td>inst22</td>\n",
       "      <td>3771272</td>\n",
       "      <td>984</td>\n",
       "      <td>3965</td>\n",
       "      <td>False</td>\n",
       "      <td>yes</td>\n",
       "      <td>13</td>\n",
       "      <td>0</td>\n",
       "      <td>-0.174652</td>\n",
       "      <td>-0.940194</td>\n",
       "    </tr>\n",
       "    <tr>\n",
       "      <th>22</th>\n",
       "      <td>inst23</td>\n",
       "      <td>940</td>\n",
       "      <td>268</td>\n",
       "      <td>227</td>\n",
       "      <td>True</td>\n",
       "      <td>yes</td>\n",
       "      <td>18</td>\n",
       "      <td>1</td>\n",
       "      <td>-0.145592</td>\n",
       "      <td>-0.691983</td>\n",
       "    </tr>\n",
       "    <tr>\n",
       "      <th>23</th>\n",
       "      <td>inst24</td>\n",
       "      <td>7500</td>\n",
       "      <td>2594</td>\n",
       "      <td>227</td>\n",
       "      <td>False</td>\n",
       "      <td>no</td>\n",
       "      <td>1</td>\n",
       "      <td>1</td>\n",
       "      <td>-0.136119</td>\n",
       "      <td>-0.639038</td>\n",
       "    </tr>\n",
       "    <tr>\n",
       "      <th>24</th>\n",
       "      <td>inst25</td>\n",
       "      <td>392</td>\n",
       "      <td>319</td>\n",
       "      <td>80</td>\n",
       "      <td>True</td>\n",
       "      <td>no</td>\n",
       "      <td>0</td>\n",
       "      <td>1</td>\n",
       "      <td>0.143949</td>\n",
       "      <td>-0.231308</td>\n",
       "    </tr>\n",
       "    <tr>\n",
       "      <th>25</th>\n",
       "      <td>inst26</td>\n",
       "      <td>313</td>\n",
       "      <td>45</td>\n",
       "      <td>59</td>\n",
       "      <td>False</td>\n",
       "      <td>no</td>\n",
       "      <td>15</td>\n",
       "      <td>0</td>\n",
       "      <td>-0.162428</td>\n",
       "      <td>-0.815142</td>\n",
       "    </tr>\n",
       "    <tr>\n",
       "      <th>26</th>\n",
       "      <td>inst27</td>\n",
       "      <td>223</td>\n",
       "      <td>338</td>\n",
       "      <td>74</td>\n",
       "      <td>True</td>\n",
       "      <td>no</td>\n",
       "      <td>17</td>\n",
       "      <td>1</td>\n",
       "      <td>-0.388972</td>\n",
       "      <td>0.380335</td>\n",
       "    </tr>\n",
       "    <tr>\n",
       "      <th>27</th>\n",
       "      <td>inst28</td>\n",
       "      <td>209</td>\n",
       "      <td>298</td>\n",
       "      <td>75</td>\n",
       "      <td>True</td>\n",
       "      <td>no</td>\n",
       "      <td>10</td>\n",
       "      <td>1</td>\n",
       "      <td>-0.418806</td>\n",
       "      <td>0.302034</td>\n",
       "    </tr>\n",
       "    <tr>\n",
       "      <th>28</th>\n",
       "      <td>inst29</td>\n",
       "      <td>170</td>\n",
       "      <td>265</td>\n",
       "      <td>38</td>\n",
       "      <td>True</td>\n",
       "      <td>no</td>\n",
       "      <td>28</td>\n",
       "      <td>1</td>\n",
       "      <td>-0.378060</td>\n",
       "      <td>0.417917</td>\n",
       "    </tr>\n",
       "    <tr>\n",
       "      <th>29</th>\n",
       "      <td>inst30</td>\n",
       "      <td>313</td>\n",
       "      <td>694</td>\n",
       "      <td>88</td>\n",
       "      <td>True</td>\n",
       "      <td>no</td>\n",
       "      <td>18</td>\n",
       "      <td>0</td>\n",
       "      <td>-0.307483</td>\n",
       "      <td>0.991663</td>\n",
       "    </tr>\n",
       "    <tr>\n",
       "      <th>...</th>\n",
       "      <td>...</td>\n",
       "      <td>...</td>\n",
       "      <td>...</td>\n",
       "      <td>...</td>\n",
       "      <td>...</td>\n",
       "      <td>...</td>\n",
       "      <td>...</td>\n",
       "      <td>...</td>\n",
       "      <td>...</td>\n",
       "      <td>...</td>\n",
       "    </tr>\n",
       "    <tr>\n",
       "      <th>142</th>\n",
       "      <td>inst143</td>\n",
       "      <td>6762</td>\n",
       "      <td>286</td>\n",
       "      <td>143</td>\n",
       "      <td>False</td>\n",
       "      <td>yes</td>\n",
       "      <td>0</td>\n",
       "      <td>0</td>\n",
       "      <td>-0.171451</td>\n",
       "      <td>-0.903566</td>\n",
       "    </tr>\n",
       "    <tr>\n",
       "      <th>143</th>\n",
       "      <td>inst144</td>\n",
       "      <td>2392</td>\n",
       "      <td>1188</td>\n",
       "      <td>654</td>\n",
       "      <td>False</td>\n",
       "      <td>yes</td>\n",
       "      <td>1</td>\n",
       "      <td>0</td>\n",
       "      <td>-0.102727</td>\n",
       "      <td>-0.507642</td>\n",
       "    </tr>\n",
       "    <tr>\n",
       "      <th>144</th>\n",
       "      <td>inst145</td>\n",
       "      <td>659005</td>\n",
       "      <td>6</td>\n",
       "      <td>7889</td>\n",
       "      <td>True</td>\n",
       "      <td>yes</td>\n",
       "      <td>0</td>\n",
       "      <td>0</td>\n",
       "      <td>-0.174670</td>\n",
       "      <td>-0.940413</td>\n",
       "    </tr>\n",
       "    <tr>\n",
       "      <th>145</th>\n",
       "      <td>inst146</td>\n",
       "      <td>1392</td>\n",
       "      <td>361</td>\n",
       "      <td>52</td>\n",
       "      <td>False</td>\n",
       "      <td>no</td>\n",
       "      <td>0</td>\n",
       "      <td>0</td>\n",
       "      <td>-0.149141</td>\n",
       "      <td>-0.714437</td>\n",
       "    </tr>\n",
       "    <tr>\n",
       "      <th>146</th>\n",
       "      <td>inst147</td>\n",
       "      <td>332</td>\n",
       "      <td>218</td>\n",
       "      <td>81</td>\n",
       "      <td>False</td>\n",
       "      <td>no</td>\n",
       "      <td>0</td>\n",
       "      <td>0</td>\n",
       "      <td>-0.035241</td>\n",
       "      <td>-0.368246</td>\n",
       "    </tr>\n",
       "    <tr>\n",
       "      <th>147</th>\n",
       "      <td>inst148</td>\n",
       "      <td>800</td>\n",
       "      <td>375</td>\n",
       "      <td>41</td>\n",
       "      <td>True</td>\n",
       "      <td>yes</td>\n",
       "      <td>0</td>\n",
       "      <td>0</td>\n",
       "      <td>-0.110336</td>\n",
       "      <td>-0.531959</td>\n",
       "    </tr>\n",
       "    <tr>\n",
       "      <th>148</th>\n",
       "      <td>inst149</td>\n",
       "      <td>366</td>\n",
       "      <td>489</td>\n",
       "      <td>60</td>\n",
       "      <td>True</td>\n",
       "      <td>no</td>\n",
       "      <td>0</td>\n",
       "      <td>0</td>\n",
       "      <td>-0.464544</td>\n",
       "      <td>0.223808</td>\n",
       "    </tr>\n",
       "    <tr>\n",
       "      <th>149</th>\n",
       "      <td>inst150</td>\n",
       "      <td>717</td>\n",
       "      <td>1011</td>\n",
       "      <td>466</td>\n",
       "      <td>True</td>\n",
       "      <td>no</td>\n",
       "      <td>0</td>\n",
       "      <td>0</td>\n",
       "      <td>-0.425402</td>\n",
       "      <td>0.288270</td>\n",
       "    </tr>\n",
       "    <tr>\n",
       "      <th>150</th>\n",
       "      <td>inst151</td>\n",
       "      <td>52</td>\n",
       "      <td>7</td>\n",
       "      <td>0</td>\n",
       "      <td>False</td>\n",
       "      <td>no</td>\n",
       "      <td>0</td>\n",
       "      <td>0</td>\n",
       "      <td>-0.163329</td>\n",
       "      <td>-0.823119</td>\n",
       "    </tr>\n",
       "    <tr>\n",
       "      <th>151</th>\n",
       "      <td>inst152</td>\n",
       "      <td>273</td>\n",
       "      <td>294</td>\n",
       "      <td>180</td>\n",
       "      <td>True</td>\n",
       "      <td>no</td>\n",
       "      <td>0</td>\n",
       "      <td>0</td>\n",
       "      <td>-1.195452</td>\n",
       "      <td>-0.002005</td>\n",
       "    </tr>\n",
       "    <tr>\n",
       "      <th>152</th>\n",
       "      <td>inst153</td>\n",
       "      <td>873</td>\n",
       "      <td>602</td>\n",
       "      <td>860</td>\n",
       "      <td>False</td>\n",
       "      <td>no</td>\n",
       "      <td>1</td>\n",
       "      <td>0</td>\n",
       "      <td>-0.012702</td>\n",
       "      <td>-0.339534</td>\n",
       "    </tr>\n",
       "    <tr>\n",
       "      <th>153</th>\n",
       "      <td>inst154</td>\n",
       "      <td>17</td>\n",
       "      <td>54</td>\n",
       "      <td>42</td>\n",
       "      <td>False</td>\n",
       "      <td>no</td>\n",
       "      <td>1</td>\n",
       "      <td>0</td>\n",
       "      <td>-0.281084</td>\n",
       "      <td>1.827513</td>\n",
       "    </tr>\n",
       "    <tr>\n",
       "      <th>154</th>\n",
       "      <td>inst155</td>\n",
       "      <td>266</td>\n",
       "      <td>259</td>\n",
       "      <td>26</td>\n",
       "      <td>False</td>\n",
       "      <td>yes</td>\n",
       "      <td>1</td>\n",
       "      <td>0</td>\n",
       "      <td>2.523108</td>\n",
       "      <td>-0.091966</td>\n",
       "    </tr>\n",
       "    <tr>\n",
       "      <th>155</th>\n",
       "      <td>inst156</td>\n",
       "      <td>828</td>\n",
       "      <td>2285</td>\n",
       "      <td>2724</td>\n",
       "      <td>False</td>\n",
       "      <td>no</td>\n",
       "      <td>1</td>\n",
       "      <td>0</td>\n",
       "      <td>-0.289020</td>\n",
       "      <td>1.464311</td>\n",
       "    </tr>\n",
       "    <tr>\n",
       "      <th>156</th>\n",
       "      <td>inst157</td>\n",
       "      <td>9</td>\n",
       "      <td>35</td>\n",
       "      <td>1</td>\n",
       "      <td>False</td>\n",
       "      <td>no</td>\n",
       "      <td>0</td>\n",
       "      <td>0</td>\n",
       "      <td>-0.272823</td>\n",
       "      <td>2.448304</td>\n",
       "    </tr>\n",
       "    <tr>\n",
       "      <th>157</th>\n",
       "      <td>inst158</td>\n",
       "      <td>6126</td>\n",
       "      <td>5428</td>\n",
       "      <td>257</td>\n",
       "      <td>False</td>\n",
       "      <td>no</td>\n",
       "      <td>0</td>\n",
       "      <td>0</td>\n",
       "      <td>0.392337</td>\n",
       "      <td>-0.168321</td>\n",
       "    </tr>\n",
       "    <tr>\n",
       "      <th>158</th>\n",
       "      <td>inst159</td>\n",
       "      <td>222</td>\n",
       "      <td>353</td>\n",
       "      <td>278</td>\n",
       "      <td>True</td>\n",
       "      <td>no</td>\n",
       "      <td>0</td>\n",
       "      <td>0</td>\n",
       "      <td>-0.371146</td>\n",
       "      <td>0.445162</td>\n",
       "    </tr>\n",
       "    <tr>\n",
       "      <th>159</th>\n",
       "      <td>inst160</td>\n",
       "      <td>643</td>\n",
       "      <td>351</td>\n",
       "      <td>166</td>\n",
       "      <td>True</td>\n",
       "      <td>no</td>\n",
       "      <td>0</td>\n",
       "      <td>0</td>\n",
       "      <td>-0.087026</td>\n",
       "      <td>-0.464750</td>\n",
       "    </tr>\n",
       "    <tr>\n",
       "      <th>160</th>\n",
       "      <td>inst161</td>\n",
       "      <td>247</td>\n",
       "      <td>242</td>\n",
       "      <td>95</td>\n",
       "      <td>True</td>\n",
       "      <td>no</td>\n",
       "      <td>0</td>\n",
       "      <td>0</td>\n",
       "      <td>3.354316</td>\n",
       "      <td>-0.086674</td>\n",
       "    </tr>\n",
       "    <tr>\n",
       "      <th>161</th>\n",
       "      <td>inst162</td>\n",
       "      <td>562</td>\n",
       "      <td>782</td>\n",
       "      <td>136</td>\n",
       "      <td>True</td>\n",
       "      <td>no</td>\n",
       "      <td>0</td>\n",
       "      <td>0</td>\n",
       "      <td>-0.433843</td>\n",
       "      <td>0.272078</td>\n",
       "    </tr>\n",
       "    <tr>\n",
       "      <th>162</th>\n",
       "      <td>inst163</td>\n",
       "      <td>387</td>\n",
       "      <td>724</td>\n",
       "      <td>329</td>\n",
       "      <td>True</td>\n",
       "      <td>no</td>\n",
       "      <td>0</td>\n",
       "      <td>0</td>\n",
       "      <td>-0.331315</td>\n",
       "      <td>0.689770</td>\n",
       "    </tr>\n",
       "    <tr>\n",
       "      <th>163</th>\n",
       "      <td>inst164</td>\n",
       "      <td>616</td>\n",
       "      <td>654</td>\n",
       "      <td>132</td>\n",
       "      <td>True</td>\n",
       "      <td>no</td>\n",
       "      <td>0</td>\n",
       "      <td>0</td>\n",
       "      <td>-1.429541</td>\n",
       "      <td>-0.015280</td>\n",
       "    </tr>\n",
       "    <tr>\n",
       "      <th>164</th>\n",
       "      <td>inst165</td>\n",
       "      <td>228</td>\n",
       "      <td>549</td>\n",
       "      <td>4</td>\n",
       "      <td>False</td>\n",
       "      <td>no</td>\n",
       "      <td>10</td>\n",
       "      <td>1</td>\n",
       "      <td>-0.299372</td>\n",
       "      <td>1.157786</td>\n",
       "    </tr>\n",
       "    <tr>\n",
       "      <th>165</th>\n",
       "      <td>inst166</td>\n",
       "      <td>85</td>\n",
       "      <td>210</td>\n",
       "      <td>53</td>\n",
       "      <td>True</td>\n",
       "      <td>no</td>\n",
       "      <td>21</td>\n",
       "      <td>1</td>\n",
       "      <td>-0.297165</td>\n",
       "      <td>1.212416</td>\n",
       "    </tr>\n",
       "    <tr>\n",
       "      <th>166</th>\n",
       "      <td>inst167</td>\n",
       "      <td>4270</td>\n",
       "      <td>2250</td>\n",
       "      <td>276</td>\n",
       "      <td>False</td>\n",
       "      <td>yes</td>\n",
       "      <td>1</td>\n",
       "      <td>0</td>\n",
       "      <td>-0.093456</td>\n",
       "      <td>-0.481260</td>\n",
       "    </tr>\n",
       "    <tr>\n",
       "      <th>167</th>\n",
       "      <td>inst168</td>\n",
       "      <td>200</td>\n",
       "      <td>196</td>\n",
       "      <td>21</td>\n",
       "      <td>False</td>\n",
       "      <td>no</td>\n",
       "      <td>1</td>\n",
       "      <td>0</td>\n",
       "      <td>3.398064</td>\n",
       "      <td>-0.086462</td>\n",
       "    </tr>\n",
       "    <tr>\n",
       "      <th>168</th>\n",
       "      <td>inst169</td>\n",
       "      <td>420</td>\n",
       "      <td>635</td>\n",
       "      <td>159</td>\n",
       "      <td>True</td>\n",
       "      <td>no</td>\n",
       "      <td>1</td>\n",
       "      <td>0</td>\n",
       "      <td>-0.390018</td>\n",
       "      <td>0.377032</td>\n",
       "    </tr>\n",
       "    <tr>\n",
       "      <th>169</th>\n",
       "      <td>inst170</td>\n",
       "      <td>323</td>\n",
       "      <td>287</td>\n",
       "      <td>18</td>\n",
       "      <td>True</td>\n",
       "      <td>no</td>\n",
       "      <td>1</td>\n",
       "      <td>0</td>\n",
       "      <td>0.406607</td>\n",
       "      <td>-0.166155</td>\n",
       "    </tr>\n",
       "    <tr>\n",
       "      <th>170</th>\n",
       "      <td>inst171</td>\n",
       "      <td>6762</td>\n",
       "      <td>286</td>\n",
       "      <td>143</td>\n",
       "      <td>False</td>\n",
       "      <td>yes</td>\n",
       "      <td>0</td>\n",
       "      <td>0</td>\n",
       "      <td>-0.171451</td>\n",
       "      <td>-0.903566</td>\n",
       "    </tr>\n",
       "    <tr>\n",
       "      <th>171</th>\n",
       "      <td>inst172</td>\n",
       "      <td>2392</td>\n",
       "      <td>1188</td>\n",
       "      <td>654</td>\n",
       "      <td>False</td>\n",
       "      <td>yes</td>\n",
       "      <td>1</td>\n",
       "      <td>0</td>\n",
       "      <td>-0.102727</td>\n",
       "      <td>-0.507642</td>\n",
       "    </tr>\n",
       "  </tbody>\n",
       "</table>\n",
       "<p>172 rows × 10 columns</p>\n",
       "</div>"
      ],
      "text/plain": [
       "    Username  Followers  Follows  Posts  Private ExternalURL  mutuals  \\\n",
       "0      inst1     240288       26    563    False         yes        1   \n",
       "1      inst2   36526536      102    852    False         yes       35   \n",
       "2      inst3   50306889       28  19963    False         yes       28   \n",
       "3      inst4          9       42      0    False          no        0   \n",
       "4      inst5       1011      222     47     True          no        0   \n",
       "5      inst6        169       36      2    False          no        0   \n",
       "6      inst7        538      118    144    False          no        0   \n",
       "7      inst8        214      354     15     True          no       24   \n",
       "8      inst9        113      184    126     True         yes       22   \n",
       "9     inst10        265      479     57    False          no       24   \n",
       "10    inst11        179      266     32    False          no       34   \n",
       "11    inst12     115494      436    739    False          no        0   \n",
       "12    inst13     900238      372    170    False          no        6   \n",
       "13    inst14     639583        7   2850    False         yes        1   \n",
       "14    inst15     348438        3   1144    False         yes        2   \n",
       "15    inst16   44494340       84   2644    False         yes       11   \n",
       "16    inst17          5        0      0    False          no       13   \n",
       "17    inst18        295      323     47     True          no       14   \n",
       "18    inst19        623     1535     47     True          no       18   \n",
       "19    inst20        277      212     45     True          no       22   \n",
       "20    inst21    3670002      244    777    False         yes       19   \n",
       "21    inst22    3771272      984   3965    False         yes       13   \n",
       "22    inst23        940      268    227     True         yes       18   \n",
       "23    inst24       7500     2594    227    False          no        1   \n",
       "24    inst25        392      319     80     True          no        0   \n",
       "25    inst26        313       45     59    False          no       15   \n",
       "26    inst27        223      338     74     True          no       17   \n",
       "27    inst28        209      298     75     True          no       10   \n",
       "28    inst29        170      265     38     True          no       28   \n",
       "29    inst30        313      694     88     True          no       18   \n",
       "..       ...        ...      ...    ...      ...         ...      ...   \n",
       "142  inst143       6762      286    143    False         yes        0   \n",
       "143  inst144       2392     1188    654    False         yes        1   \n",
       "144  inst145     659005        6   7889     True         yes        0   \n",
       "145  inst146       1392      361     52    False          no        0   \n",
       "146  inst147        332      218     81    False          no        0   \n",
       "147  inst148        800      375     41     True         yes        0   \n",
       "148  inst149        366      489     60     True          no        0   \n",
       "149  inst150        717     1011    466     True          no        0   \n",
       "150  inst151         52        7      0    False          no        0   \n",
       "151  inst152        273      294    180     True          no        0   \n",
       "152  inst153        873      602    860    False          no        1   \n",
       "153  inst154         17       54     42    False          no        1   \n",
       "154  inst155        266      259     26    False         yes        1   \n",
       "155  inst156        828     2285   2724    False          no        1   \n",
       "156  inst157          9       35      1    False          no        0   \n",
       "157  inst158       6126     5428    257    False          no        0   \n",
       "158  inst159        222      353    278     True          no        0   \n",
       "159  inst160        643      351    166     True          no        0   \n",
       "160  inst161        247      242     95     True          no        0   \n",
       "161  inst162        562      782    136     True          no        0   \n",
       "162  inst163        387      724    329     True          no        0   \n",
       "163  inst164        616      654    132     True          no        0   \n",
       "164  inst165        228      549      4    False          no       10   \n",
       "165  inst166         85      210     53     True          no       21   \n",
       "166  inst167       4270     2250    276    False         yes        1   \n",
       "167  inst168        200      196     21    False          no        1   \n",
       "168  inst169        420      635    159     True          no        1   \n",
       "169  inst170        323      287     18     True          no        1   \n",
       "170  inst171       6762      286    143    False         yes        0   \n",
       "171  inst172       2392     1188    654    False         yes        1   \n",
       "\n",
       "     followback       fol    folfol  \n",
       "0             0 -0.174663 -0.940327  \n",
       "1             0 -0.174671 -0.940419  \n",
       "2             0 -0.174671 -0.940421  \n",
       "3             0 -0.267469  3.126049  \n",
       "4             0 -0.154155 -0.749078  \n",
       "5             0 -0.154935 -0.754800  \n",
       "6             1 -0.154186 -0.749299  \n",
       "7             1 -0.359036  0.501031  \n",
       "8             1 -0.363628  0.478474  \n",
       "9             1 -0.337873  0.634651  \n",
       "10            1 -0.397600  0.354488  \n",
       "11            0 -0.174395 -0.937132  \n",
       "12            0 -0.174641 -0.940061  \n",
       "13            0 -0.174670 -0.940412  \n",
       "14            0 -0.174670 -0.940414  \n",
       "15            0 -0.174671 -0.940420  \n",
       "16            1 -0.174671 -0.940421  \n",
       "17            1 -1.015774  0.013673  \n",
       "18            1 -0.297392  1.206575  \n",
       "19            1  0.063138 -0.273512  \n",
       "20            0 -0.174666 -0.940363  \n",
       "21            0 -0.174652 -0.940194  \n",
       "22            1 -0.145592 -0.691983  \n",
       "23            1 -0.136119 -0.639038  \n",
       "24            1  0.143949 -0.231308  \n",
       "25            0 -0.162428 -0.815142  \n",
       "26            1 -0.388972  0.380335  \n",
       "27            1 -0.418806  0.302034  \n",
       "28            1 -0.378060  0.417917  \n",
       "29            0 -0.307483  0.991663  \n",
       "..          ...       ...       ...  \n",
       "142           0 -0.171451 -0.903566  \n",
       "143           0 -0.102727 -0.507642  \n",
       "144           0 -0.174670 -0.940413  \n",
       "145           0 -0.149141 -0.714437  \n",
       "146           0 -0.035241 -0.368246  \n",
       "147           0 -0.110336 -0.531959  \n",
       "148           0 -0.464544  0.223808  \n",
       "149           0 -0.425402  0.288270  \n",
       "150           0 -0.163329 -0.823119  \n",
       "151           0 -1.195452 -0.002005  \n",
       "152           0 -0.012702 -0.339534  \n",
       "153           0 -0.281084  1.827513  \n",
       "154           0  2.523108 -0.091966  \n",
       "155           0 -0.289020  1.464311  \n",
       "156           0 -0.272823  2.448304  \n",
       "157           0  0.392337 -0.168321  \n",
       "158           0 -0.371146  0.445162  \n",
       "159           0 -0.087026 -0.464750  \n",
       "160           0  3.354316 -0.086674  \n",
       "161           0 -0.433843  0.272078  \n",
       "162           0 -0.331315  0.689770  \n",
       "163           0 -1.429541 -0.015280  \n",
       "164           1 -0.299372  1.157786  \n",
       "165           1 -0.297165  1.212416  \n",
       "166           0 -0.093456 -0.481260  \n",
       "167           0  3.398064 -0.086462  \n",
       "168           0 -0.390018  0.377032  \n",
       "169           0  0.406607 -0.166155  \n",
       "170           0 -0.171451 -0.903566  \n",
       "171           0 -0.102727 -0.507642  \n",
       "\n",
       "[172 rows x 10 columns]"
      ]
     },
     "execution_count": 472,
     "metadata": {},
     "output_type": "execute_result"
    }
   ],
   "source": [
    "# standardization of fol and folfol\n",
    "mean=np.mean(data['fol'])\n",
    "std=np.std(data['fol'])\n",
    "mean=float(mean)\n",
    "std=float(std)\n",
    "data['fol']=(data['fol']-mean)/std\n",
    "mean=np.mean(data['folfol'])\n",
    "std=np.std(data['folfol'])\n",
    "mean=float(mean)\n",
    "std=float(std)\n",
    "data['folfol']=(data['folfol']-mean)/std\n",
    "data"
   ]
  },
  {
   "cell_type": "code",
   "execution_count": 473,
   "metadata": {},
   "outputs": [],
   "source": [
    "# splitting the data into training and testing data\n",
    "from sklearn.model_selection import train_test_split\n",
    "train,test=train_test_split(data,test_size=0.2,random_state=4)"
   ]
  },
  {
   "cell_type": "code",
   "execution_count": 474,
   "metadata": {},
   "outputs": [
    {
     "data": {
      "text/plain": [
       "(137, 10)"
      ]
     },
     "execution_count": 474,
     "metadata": {},
     "output_type": "execute_result"
    }
   ],
   "source": [
    "train.shape"
   ]
  },
  {
   "cell_type": "code",
   "execution_count": 475,
   "metadata": {},
   "outputs": [
    {
     "data": {
      "text/plain": [
       "(35, 10)"
      ]
     },
     "execution_count": 475,
     "metadata": {},
     "output_type": "execute_result"
    }
   ],
   "source": [
    "test.shape"
   ]
  },
  {
   "cell_type": "code",
   "execution_count": 476,
   "metadata": {},
   "outputs": [
    {
     "data": {
      "text/plain": [
       "0    94\n",
       "1    43\n",
       "Name: followback, dtype: int64"
      ]
     },
     "execution_count": 476,
     "metadata": {},
     "output_type": "execute_result"
    }
   ],
   "source": [
    "train['followback'].value_counts()"
   ]
  },
  {
   "cell_type": "code",
   "execution_count": 477,
   "metadata": {},
   "outputs": [
    {
     "data": {
      "text/plain": [
       "Text(0, 0.5, 'followback')"
      ]
     },
     "execution_count": 477,
     "metadata": {},
     "output_type": "execute_result"
    },
    {
     "data": {
      "image/png": "[encoded data removed]",
      "text/plain": [
       "<Figure size 432x288 with 1 Axes>"
      ]
     },
     "metadata": {
      "needs_background": "light"
     },
     "output_type": "display_data"
    }
   ],
   "source": [
    "# visualizing data\n",
    "pd.crosstab(train.Private,train.followback).plot(kind='bar')\n",
    "plt.xlabel('Private')\n",
    "plt.ylabel('followback')"
   ]
  },
  {
   "cell_type": "code",
   "execution_count": 478,
   "metadata": {},
   "outputs": [
    {
     "data": {
      "text/plain": [
       "Text(0, 0.5, 'followback')"
      ]
     },
     "execution_count": 478,
     "metadata": {},
     "output_type": "execute_result"
    },
    {
     "data": {
      "image/png": "[encoded data removed]",
      "text/plain": [
       "<Figure size 432x288 with 1 Axes>"
      ]
     },
     "metadata": {
      "needs_background": "light"
     },
     "output_type": "display_data"
    }
   ],
   "source": [
    "pd.crosstab(train.ExternalURL,train.followback).plot(kind='bar')\n",
    "plt.xlabel('ExternalURL')\n",
    "plt.ylabel('followback')"
   ]
  },
  {
   "cell_type": "code",
   "execution_count": 479,
   "metadata": {},
   "outputs": [
    {
     "data": {
      "text/plain": [
       "array([<matplotlib.axes._subplots.AxesSubplot object at 0x10403790>,\n",
       "       <matplotlib.axes._subplots.AxesSubplot object at 0x104276B0>],\n",
       "      dtype=object)"
      ]
     },
     "execution_count": 479,
     "metadata": {},
     "output_type": "execute_result"
    },
    {
     "data": {
      "image/png": "[encoded data removed]",
      "text/plain": [
       "<Figure size 432x288 with 2 Axes>"
      ]
     },
     "metadata": {
      "needs_background": "light"
     },
     "output_type": "display_data"
    }
   ],
   "source": [
    "train.hist(column=\"Followers\",by=\"followback\",bins=20)"
   ]
  },
  {
   "cell_type": "code",
   "execution_count": 480,
   "metadata": {},
   "outputs": [
    {
     "data": {
      "text/plain": [
       "array([<matplotlib.axes._subplots.AxesSubplot object at 0x0F395950>,\n",
       "       <matplotlib.axes._subplots.AxesSubplot object at 0x0F3336D0>],\n",
       "      dtype=object)"
      ]
     },
     "execution_count": 480,
     "metadata": {},
     "output_type": "execute_result"
    },
    {
     "data": {
      "image/png": "[encoded data removed]",
      "text/plain": [
       "<Figure size 432x288 with 2 Axes>"
      ]
     },
     "metadata": {
      "needs_background": "light"
     },
     "output_type": "display_data"
    }
   ],
   "source": [
    "train.hist(column=\"Follows\",by=\"followback\",bins=20)"
   ]
  },
  {
   "cell_type": "code",
   "execution_count": 481,
   "metadata": {},
   "outputs": [
    {
     "data": {
      "text/plain": [
       "array([<matplotlib.axes._subplots.AxesSubplot object at 0x0F3B9D70>,\n",
       "       <matplotlib.axes._subplots.AxesSubplot object at 0x10563C70>],\n",
       "      dtype=object)"
      ]
     },
     "execution_count": 481,
     "metadata": {},
     "output_type": "execute_result"
    },
    {
     "data": {
      "image/png": "[encoded data removed]",
      "text/plain": [
       "<Figure size 432x288 with 2 Axes>"
      ]
     },
     "metadata": {
      "needs_background": "light"
     },
     "output_type": "display_data"
    }
   ],
   "source": [
    "train.hist(column=\"fol\",by=\"followback\",bins=30)"
   ]
  },
  {
   "cell_type": "code",
   "execution_count": 482,
   "metadata": {},
   "outputs": [
    {
     "data": {
      "text/plain": [
       "array([<matplotlib.axes._subplots.AxesSubplot object at 0x105F7530>,\n",
       "       <matplotlib.axes._subplots.AxesSubplot object at 0x10615C50>],\n",
       "      dtype=object)"
      ]
     },
     "execution_count": 482,
     "metadata": {},
     "output_type": "execute_result"
    },
    {
     "data": {
      "image/png": "[encoded data removed]",
      "text/plain": [
       "<Figure size 432x288 with 2 Axes>"
      ]
     },
     "metadata": {
      "needs_background": "light"
     },
     "output_type": "display_data"
    }
   ],
   "source": [
    "train.hist(column=\"folfol\",by=\"followback\",bins=30)"
   ]
  },
  {
   "cell_type": "code",
   "execution_count": 483,
   "metadata": {},
   "outputs": [
    {
     "data": {
      "text/plain": [
       "['Username',\n",
       " 'Followers',\n",
       " 'Follows',\n",
       " 'Posts',\n",
       " 'Private',\n",
       " 'ExternalURL',\n",
       " 'mutuals',\n",
       " 'followback',\n",
       " 'fol',\n",
       " 'folfol']"
      ]
     },
     "execution_count": 483,
     "metadata": {},
     "output_type": "execute_result"
    }
   ],
   "source": [
    "cols = list(train.columns.values)\n",
    "cols"
   ]
  },
  {
   "cell_type": "code",
   "execution_count": 484,
   "metadata": {},
   "outputs": [],
   "source": [
    "train = train[['Username','Followers','Follows','Posts','Private','ExternalURL','mutuals','fol','folfol','followback']]\n",
    "test = test[['Username','Followers','Follows','Posts','Private','ExternalURL','mutuals','fol','folfol','followback']]"
   ]
  },
  {
   "cell_type": "code",
   "execution_count": 485,
   "metadata": {},
   "outputs": [
    {
     "data": {
      "text/html": [
       "<div>\n",
       "<style scoped>\n",
       "    .dataframe tbody tr th:only-of-type {\n",
       "        vertical-align: middle;\n",
       "    }\n",
       "\n",
       "    .dataframe tbody tr th {\n",
       "        vertical-align: top;\n",
       "    }\n",
       "\n",
       "    .dataframe thead th {\n",
       "        text-align: right;\n",
       "    }\n",
       "</style>\n",
       "<table border=\"1\" class=\"dataframe\">\n",
       "  <thead>\n",
       "    <tr style=\"text-align: right;\">\n",
       "      <th></th>\n",
       "      <th>Username</th>\n",
       "      <th>Followers</th>\n",
       "      <th>Follows</th>\n",
       "      <th>Posts</th>\n",
       "      <th>Private</th>\n",
       "      <th>ExternalURL</th>\n",
       "      <th>mutuals</th>\n",
       "      <th>fol</th>\n",
       "      <th>folfol</th>\n",
       "      <th>followback</th>\n",
       "    </tr>\n",
       "  </thead>\n",
       "  <tbody>\n",
       "    <tr>\n",
       "      <th>2</th>\n",
       "      <td>inst3</td>\n",
       "      <td>50306889</td>\n",
       "      <td>28</td>\n",
       "      <td>19963</td>\n",
       "      <td>False</td>\n",
       "      <td>yes</td>\n",
       "      <td>28</td>\n",
       "      <td>-0.174671</td>\n",
       "      <td>-0.940421</td>\n",
       "      <td>0</td>\n",
       "    </tr>\n",
       "    <tr>\n",
       "      <th>86</th>\n",
       "      <td>inst87</td>\n",
       "      <td>277</td>\n",
       "      <td>212</td>\n",
       "      <td>45</td>\n",
       "      <td>True</td>\n",
       "      <td>no</td>\n",
       "      <td>22</td>\n",
       "      <td>0.063138</td>\n",
       "      <td>-0.273512</td>\n",
       "      <td>1</td>\n",
       "    </tr>\n",
       "    <tr>\n",
       "      <th>29</th>\n",
       "      <td>inst30</td>\n",
       "      <td>313</td>\n",
       "      <td>694</td>\n",
       "      <td>88</td>\n",
       "      <td>True</td>\n",
       "      <td>no</td>\n",
       "      <td>18</td>\n",
       "      <td>-0.307483</td>\n",
       "      <td>0.991663</td>\n",
       "      <td>0</td>\n",
       "    </tr>\n",
       "    <tr>\n",
       "      <th>24</th>\n",
       "      <td>inst25</td>\n",
       "      <td>392</td>\n",
       "      <td>319</td>\n",
       "      <td>80</td>\n",
       "      <td>True</td>\n",
       "      <td>no</td>\n",
       "      <td>0</td>\n",
       "      <td>0.143949</td>\n",
       "      <td>-0.231308</td>\n",
       "      <td>1</td>\n",
       "    </tr>\n",
       "    <tr>\n",
       "      <th>161</th>\n",
       "      <td>inst162</td>\n",
       "      <td>562</td>\n",
       "      <td>782</td>\n",
       "      <td>136</td>\n",
       "      <td>True</td>\n",
       "      <td>no</td>\n",
       "      <td>0</td>\n",
       "      <td>-0.433843</td>\n",
       "      <td>0.272078</td>\n",
       "      <td>0</td>\n",
       "    </tr>\n",
       "  </tbody>\n",
       "</table>\n",
       "</div>"
      ],
      "text/plain": [
       "    Username  Followers  Follows  Posts  Private ExternalURL  mutuals  \\\n",
       "2      inst3   50306889       28  19963    False         yes       28   \n",
       "86    inst87        277      212     45     True          no       22   \n",
       "29    inst30        313      694     88     True          no       18   \n",
       "24    inst25        392      319     80     True          no        0   \n",
       "161  inst162        562      782    136     True          no        0   \n",
       "\n",
       "          fol    folfol  followback  \n",
       "2   -0.174671 -0.940421           0  \n",
       "86   0.063138 -0.273512           1  \n",
       "29  -0.307483  0.991663           0  \n",
       "24   0.143949 -0.231308           1  \n",
       "161 -0.433843  0.272078           0  "
      ]
     },
     "execution_count": 485,
     "metadata": {},
     "output_type": "execute_result"
    }
   ],
   "source": [
    "train.head()"
   ]
  },
  {
   "cell_type": "code",
   "execution_count": 486,
   "metadata": {},
   "outputs": [],
   "source": [
    "# replacing yes and no in ExternalURL column with 1 and 0 respectively\n",
    "# replacing True and False with 1 and 0 respectively in Private column\n",
    "train_copy=train.copy()\n",
    "train_copy['ExternalURL'] = train_copy['ExternalURL'].map({'yes':1,'no':0})\n",
    "train_copy['Private'] = train_copy['Private'].map({True:1,False:0})"
   ]
  },
  {
   "cell_type": "code",
   "execution_count": 487,
   "metadata": {},
   "outputs": [],
   "source": [
    "test_copy=test.copy()\n",
    "test_copy['ExternalURL'] = test_copy['ExternalURL'].map({'yes':1,'no':0})\n",
    "test_copy['Private'] = test_copy['Private'].map({True:1,False:0})"
   ]
  },
  {
   "cell_type": "code",
   "execution_count": 488,
   "metadata": {},
   "outputs": [],
   "source": [
    "# introducing new feature Privext which is a sum of Private and ExternalURL columns\n",
    "train_copy['Privext']=train_copy['Private']+train_copy['ExternalURL']\n",
    "test_copy['Privext']=test_copy['Private']+test_copy['ExternalURL']"
   ]
  },
  {
   "cell_type": "code",
   "execution_count": 489,
   "metadata": {},
   "outputs": [],
   "source": [
    "train_copy = train_copy[['Username','Followers','Follows','Posts','Private','ExternalURL','mutuals','fol','folfol','Privext','followback']]\n",
    "test_copy = test_copy[['Username','Followers','Follows','Posts','Private','ExternalURL','mutuals','fol','folfol','Privext','followback']]"
   ]
  },
  {
   "cell_type": "code",
   "execution_count": 490,
   "metadata": {},
   "outputs": [
    {
     "data": {
      "text/html": [
       "<div>\n",
       "<style scoped>\n",
       "    .dataframe tbody tr th:only-of-type {\n",
       "        vertical-align: middle;\n",
       "    }\n",
       "\n",
       "    .dataframe tbody tr th {\n",
       "        vertical-align: top;\n",
       "    }\n",
       "\n",
       "    .dataframe thead th {\n",
       "        text-align: right;\n",
       "    }\n",
       "</style>\n",
       "<table border=\"1\" class=\"dataframe\">\n",
       "  <thead>\n",
       "    <tr style=\"text-align: right;\">\n",
       "      <th></th>\n",
       "      <th>Username</th>\n",
       "      <th>Followers</th>\n",
       "      <th>Follows</th>\n",
       "      <th>Posts</th>\n",
       "      <th>Private</th>\n",
       "      <th>ExternalURL</th>\n",
       "      <th>mutuals</th>\n",
       "      <th>fol</th>\n",
       "      <th>folfol</th>\n",
       "      <th>Privext</th>\n",
       "      <th>followback</th>\n",
       "    </tr>\n",
       "  </thead>\n",
       "  <tbody>\n",
       "    <tr>\n",
       "      <th>2</th>\n",
       "      <td>inst3</td>\n",
       "      <td>50306889</td>\n",
       "      <td>28</td>\n",
       "      <td>19963</td>\n",
       "      <td>0</td>\n",
       "      <td>1</td>\n",
       "      <td>28</td>\n",
       "      <td>-0.174671</td>\n",
       "      <td>-0.940421</td>\n",
       "      <td>1</td>\n",
       "      <td>0</td>\n",
       "    </tr>\n",
       "    <tr>\n",
       "      <th>86</th>\n",
       "      <td>inst87</td>\n",
       "      <td>277</td>\n",
       "      <td>212</td>\n",
       "      <td>45</td>\n",
       "      <td>1</td>\n",
       "      <td>0</td>\n",
       "      <td>22</td>\n",
       "      <td>0.063138</td>\n",
       "      <td>-0.273512</td>\n",
       "      <td>1</td>\n",
       "      <td>1</td>\n",
       "    </tr>\n",
       "    <tr>\n",
       "      <th>29</th>\n",
       "      <td>inst30</td>\n",
       "      <td>313</td>\n",
       "      <td>694</td>\n",
       "      <td>88</td>\n",
       "      <td>1</td>\n",
       "      <td>0</td>\n",
       "      <td>18</td>\n",
       "      <td>-0.307483</td>\n",
       "      <td>0.991663</td>\n",
       "      <td>1</td>\n",
       "      <td>0</td>\n",
       "    </tr>\n",
       "    <tr>\n",
       "      <th>24</th>\n",
       "      <td>inst25</td>\n",
       "      <td>392</td>\n",
       "      <td>319</td>\n",
       "      <td>80</td>\n",
       "      <td>1</td>\n",
       "      <td>0</td>\n",
       "      <td>0</td>\n",
       "      <td>0.143949</td>\n",
       "      <td>-0.231308</td>\n",
       "      <td>1</td>\n",
       "      <td>1</td>\n",
       "    </tr>\n",
       "    <tr>\n",
       "      <th>161</th>\n",
       "      <td>inst162</td>\n",
       "      <td>562</td>\n",
       "      <td>782</td>\n",
       "      <td>136</td>\n",
       "      <td>1</td>\n",
       "      <td>0</td>\n",
       "      <td>0</td>\n",
       "      <td>-0.433843</td>\n",
       "      <td>0.272078</td>\n",
       "      <td>1</td>\n",
       "      <td>0</td>\n",
       "    </tr>\n",
       "  </tbody>\n",
       "</table>\n",
       "</div>"
      ],
      "text/plain": [
       "    Username  Followers  Follows  Posts  Private  ExternalURL  mutuals  \\\n",
       "2      inst3   50306889       28  19963        0            1       28   \n",
       "86    inst87        277      212     45        1            0       22   \n",
       "29    inst30        313      694     88        1            0       18   \n",
       "24    inst25        392      319     80        1            0        0   \n",
       "161  inst162        562      782    136        1            0        0   \n",
       "\n",
       "          fol    folfol  Privext  followback  \n",
       "2   -0.174671 -0.940421        1           0  \n",
       "86   0.063138 -0.273512        1           1  \n",
       "29  -0.307483  0.991663        1           0  \n",
       "24   0.143949 -0.231308        1           1  \n",
       "161 -0.433843  0.272078        1           0  "
      ]
     },
     "execution_count": 490,
     "metadata": {},
     "output_type": "execute_result"
    }
   ],
   "source": [
    "train_copy.head()"
   ]
  },
  {
   "cell_type": "code",
   "execution_count": 491,
   "metadata": {},
   "outputs": [
    {
     "data": {
      "text/plain": [
       "Text(0, 0.5, 'followback')"
      ]
     },
     "execution_count": 491,
     "metadata": {},
     "output_type": "execute_result"
    },
    {
     "data": {
      "image/png": "[encoded data removed]",
      "text/plain": [
       "<Figure size 432x288 with 1 Axes>"
      ]
     },
     "metadata": {
      "needs_background": "light"
     },
     "output_type": "display_data"
    }
   ],
   "source": [
    "pd.crosstab(train_copy.Privext,train_copy.followback).plot(kind='bar')\n",
    "plt.xlabel('Privext')\n",
    "plt.ylabel('followback')"
   ]
  },
  {
   "cell_type": "code",
   "execution_count": 563,
   "metadata": {},
   "outputs": [],
   "source": [
    "# 500 number of trees, 5 random_state and 3 max_depth \n",
    "clf = RandomForestClassifier(n_estimators=500, random_state=5,max_depth=3)\n",
    "clf = clf.fit(train_copy.iloc[:,1:10], train_copy.iloc[:,-1])"
   ]
  },
  {
   "cell_type": "code",
   "execution_count": 564,
   "metadata": {},
   "outputs": [
    {
     "name": "stdout",
     "output_type": "stream",
     "text": [
      "('Followers', 0.13830524394787067)\n",
      "('Follows', 0.22330881298985994)\n",
      "('Posts', 0.11073624765664127)\n",
      "('Private', 0.0058427804371500225)\n",
      "('ExternalURL', 0.004652826136396206)\n",
      "('mutuals', 0.21718304902414948)\n",
      "('fol', 0.08749488833175803)\n",
      "('folfol', 0.18979280780545688)\n",
      "('Privext', 0.022683343670717216)\n"
     ]
    }
   ],
   "source": [
    "# feature importance \n",
    "labels=['Followers','Follows','Posts','Private','ExternalURL','mutuals','fol','folfol','Privext'];\n",
    "for feature in zip(labels,clf.feature_importances_):\n",
    "    print(feature)"
   ]
  },
  {
   "cell_type": "code",
   "execution_count": 565,
   "metadata": {},
   "outputs": [
    {
     "data": {
      "image/png": "[encoded data removed]",
      "text/plain": [
       "<Figure size 432x288 with 1 Axes>"
      ]
     },
     "metadata": {
      "needs_background": "light"
     },
     "output_type": "display_data"
    }
   ],
   "source": [
    "# plotting the features in decreasing order of importance\n",
    "features = labels\n",
    "importances = clf.feature_importances_\n",
    "indices = np.argsort(importances)\n",
    "plt.title('Feature Importances')\n",
    "plt.barh(range(len(indices)), importances[indices], color='b', align='center')\n",
    "plt.yticks(range(len(indices)), [features[i] for i in indices])\n",
    "plt.xlabel('Relative Importance')\n",
    "plt.show()"
   ]
  },
  {
   "cell_type": "code",
   "execution_count": 566,
   "metadata": {},
   "outputs": [],
   "source": [
    "# important features\n",
    "important_train=train_copy[['folfol','fol','mutuals','Follows']]\n",
    "important_test=test_copy[['folfol','fol','mutuals','Follows']]"
   ]
  },
  {
   "cell_type": "code",
   "execution_count": 572,
   "metadata": {},
   "outputs": [
    {
     "data": {
      "text/plain": [
       "0.8"
      ]
     },
     "execution_count": 572,
     "metadata": {},
     "output_type": "execute_result"
    }
   ],
   "source": [
    "# predicitng the followback and checking accuracy score\n",
    "new_clf = RandomForestClassifier(n_estimators=500,max_depth=2,random_state=5,)\n",
    "new_clf.fit(important_train, train_copy.iloc[:,-1])\n",
    "y_pred = new_clf.predict(important_test)\n",
    "score=metrics.accuracy_score(test_copy.iloc[:,-1], y_pred)\n",
    "score"
   ]
  },
  {
   "cell_type": "code",
   "execution_count": 573,
   "metadata": {},
   "outputs": [
    {
     "data": {
      "text/plain": [
       "array([[20,  0],\n",
       "       [ 7,  8]], dtype=int64)"
      ]
     },
     "execution_count": 573,
     "metadata": {},
     "output_type": "execute_result"
    }
   ],
   "source": [
    "# confusion matrix\n",
    "results=metrics.confusion_matrix(test_copy.iloc[:,-1],y_pred)\n",
    "results"
   ]
  },
  {
   "cell_type": "code",
   "execution_count": 574,
   "metadata": {},
   "outputs": [
    {
     "data": {
      "text/plain": [
       "<matplotlib.colorbar.Colorbar at 0x10ad4d70>"
      ]
     },
     "execution_count": 574,
     "metadata": {},
     "output_type": "execute_result"
    },
    {
     "data": {
      "image/png": "[encoded data removed]",
      "text/plain": [
       "<Figure size 288x288 with 2 Axes>"
      ]
     },
     "metadata": {
      "needs_background": "light"
     },
     "output_type": "display_data"
    }
   ],
   "source": [
    "plt.matshow(results)\n",
    "plt.colorbar()"
   ]
  },
  {
   "cell_type": "code",
   "execution_count": 575,
   "metadata": {},
   "outputs": [
    {
     "name": "stdout",
     "output_type": "stream",
     "text": [
      "1.0\n"
     ]
    }
   ],
   "source": [
    "# printing precision score for randomforestclassifier\n",
    "report=metrics.precision_score(test_copy.iloc[:,-1],y_pred)\n",
    "print(report)"
   ]
  },
  {
   "cell_type": "code",
   "execution_count": 571,
   "metadata": {},
   "outputs": [
    {
     "data": {
      "image/png": "[encoded data removed]",
      "text/plain": [
       "<Figure size 432x288 with 1 Axes>"
      ]
     },
     "metadata": {
      "needs_background": "light"
     },
     "output_type": "display_data"
    }
   ],
   "source": [
    "# AUC score for randomforestclassifier\n",
    "y_true = test_copy.iloc[:,-1]\n",
    "fpr, tpr, threshold = metrics.roc_curve(y_true, y_pred)\n",
    "auc = metrics.roc_auc_score(y_true, y_pred)\n",
    "plt.plot(fpr,tpr,label=\"data , auc=\"+str(auc))\n",
    "plt.legend(loc=4)\n",
    "plt.show()"
   ]
  },
  {
   "cell_type": "code",
   "execution_count": 576,
   "metadata": {},
   "outputs": [
    {
     "name": "stdout",
     "output_type": "stream",
     "text": [
      "              precision    recall  f1-score   support\n",
      "\n",
      "           0       0.74      1.00      0.85        20\n",
      "           1       1.00      0.53      0.70        15\n",
      "\n",
      "   micro avg       0.80      0.80      0.80        35\n",
      "   macro avg       0.87      0.77      0.77        35\n",
      "weighted avg       0.85      0.80      0.78        35\n",
      "\n"
     ]
    }
   ],
   "source": [
    "# printing classification report for randomforestclassifier\n",
    "from sklearn.metrics import classification_report\n",
    "print(classification_report(y_true,y_pred))"
   ]
  },
  {
   "cell_type": "code",
   "execution_count": 577,
   "metadata": {},
   "outputs": [
    {
     "name": "stderr",
     "output_type": "stream",
     "text": [
      "C:\\ProgramData\\Anaconda3\\lib\\site-packages\\sklearn\\linear_model\\logistic.py:433: FutureWarning: Default solver will be changed to 'lbfgs' in 0.22. Specify a solver to silence this warning.\n",
      "  FutureWarning)\n"
     ]
    }
   ],
   "source": [
    "# logisticregression\n",
    "from sklearn.linear_model import LogisticRegression\n",
    "clf = LogisticRegression()\n",
    "clf=clf.fit(train_copy.iloc[:,1:10], train_copy.iloc[:,-1])"
   ]
  },
  {
   "cell_type": "code",
   "execution_count": 578,
   "metadata": {},
   "outputs": [],
   "source": [
    "y_pred=clf.predict(test_copy.iloc[:,1:10])"
   ]
  },
  {
   "cell_type": "code",
   "execution_count": 579,
   "metadata": {},
   "outputs": [
    {
     "name": "stdout",
     "output_type": "stream",
     "text": [
      "              precision    recall  f1-score   support\n",
      "\n",
      "           0       0.67      0.80      0.73        20\n",
      "           1       0.64      0.47      0.54        15\n",
      "\n",
      "   micro avg       0.66      0.66      0.66        35\n",
      "   macro avg       0.65      0.63      0.63        35\n",
      "weighted avg       0.65      0.66      0.65        35\n",
      "\n"
     ]
    }
   ],
   "source": [
    "# classification report for logistic regression \n",
    "from sklearn.metrics import classification_report\n",
    "print(classification_report(y_true,y_pred))"
   ]
  },
  {
   "cell_type": "code",
   "execution_count": 580,
   "metadata": {},
   "outputs": [
    {
     "data": {
      "text/plain": [
       "0.6571428571428571"
      ]
     },
     "execution_count": 580,
     "metadata": {},
     "output_type": "execute_result"
    }
   ],
   "source": [
    "# accuracy score for logistic regression\n",
    "score=metrics.accuracy_score(test_copy.iloc[:,-1], y_pred)\n",
    "score"
   ]
  },
  {
   "cell_type": "code",
   "execution_count": 581,
   "metadata": {},
   "outputs": [
    {
     "data": {
      "text/plain": [
       "array([[16,  4],\n",
       "       [ 8,  7]], dtype=int64)"
      ]
     },
     "execution_count": 581,
     "metadata": {},
     "output_type": "execute_result"
    }
   ],
   "source": [
    "# confusion matrix for logistic regression\n",
    "results=metrics.confusion_matrix(test_copy.iloc[:,-1],y_pred)\n",
    "results"
   ]
  },
  {
   "cell_type": "code",
   "execution_count": 582,
   "metadata": {},
   "outputs": [
    {
     "data": {
      "text/plain": [
       "<matplotlib.colorbar.Colorbar at 0x1099d250>"
      ]
     },
     "execution_count": 582,
     "metadata": {},
     "output_type": "execute_result"
    },
    {
     "data": {
      "image/png": "[encoded data removed]",
      "text/plain": [
       "<Figure size 288x288 with 2 Axes>"
      ]
     },
     "metadata": {
      "needs_background": "light"
     },
     "output_type": "display_data"
    }
   ],
   "source": [
    "plt.matshow(results)\n",
    "plt.colorbar()"
   ]
  },
  {
   "cell_type": "code",
   "execution_count": 583,
   "metadata": {},
   "outputs": [
    {
     "name": "stdout",
     "output_type": "stream",
     "text": [
      "0.6363636363636364\n"
     ]
    }
   ],
   "source": [
    "report=metrics.precision_score(test_copy.iloc[:,-1],y_pred)\n",
    "print(report)"
   ]
  },
  {
   "cell_type": "code",
   "execution_count": 584,
   "metadata": {},
   "outputs": [
    {
     "data": {
      "image/png": "[encoded data removed]",
      "text/plain": [
       "<Figure size 432x288 with 1 Axes>"
      ]
     },
     "metadata": {
      "needs_background": "light"
     },
     "output_type": "display_data"
    }
   ],
   "source": [
    "# AUC score for logistic regression\n",
    "y_true = test_copy.iloc[:,-1]\n",
    "fpr, tpr, threshold = metrics.roc_curve(y_true, y_pred)\n",
    "auc = metrics.roc_auc_score(y_true, y_pred)\n",
    "plt.plot(fpr,tpr,label=\"data , auc=\"+str(auc))\n",
    "plt.legend(loc=4)\n",
    "plt.show()"
   ]
  },
  {
   "cell_type": "code",
   "execution_count": null,
   "metadata": {},
   "outputs": [],
   "source": [
    "# on comparing we find random forest fits the given data perfectly"
   ]
  }
 ],
 "metadata": {
  "kernelspec": {
   "display_name": "Python 3",
   "language": "python",
   "name": "python3"
  },
  "language_info": {
   "codemirror_mode": {
    "name": "ipython",
    "version": 3
   },
   "file_extension": ".py",
   "mimetype": "text/x-python",
   "name": "python",
   "nbconvert_exporter": "python",
   "pygments_lexer": "ipython3",
   "version": "3.7.1"
  }
 },
 "nbformat": 4,
 "nbformat_minor": 2
}
